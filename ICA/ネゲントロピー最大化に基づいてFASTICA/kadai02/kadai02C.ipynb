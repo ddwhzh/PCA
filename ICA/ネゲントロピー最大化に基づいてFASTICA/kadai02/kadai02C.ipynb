{
 "cells": [
  {
   "cell_type": "code",
   "execution_count": 1,
   "metadata": {},
   "outputs": [],
   "source": [
    "import random\n",
    "from numpy import *\n",
    "import matplotlib.pyplot as plt\n",
    "from scipy.io import wavfile\n",
    "import copy\n",
    "\n",
    "def load_data():\n",
    "    fs1, data1 = wavfile.read('music1.wav')\n",
    "    fs2, data2 = wavfile.read('music2.wav')\n",
    "    X1=data1-mean(data1)\n",
    "    X2=data2-mean(data2)\n",
    "    X=array([X1,X2],dtype=float)    \n",
    "    return X,fs1;\n",
    "\n",
    "def whiten(X):\n",
    "    xx=dot(X,X.T)\n",
    "    D,E = linalg.eig(xx)\n",
    "    D=diag(1/sqrt(D))\n",
    "    V = dot(D, E.T)\n",
    "    Z=dot(V,X)\n",
    "    return Z\n",
    "\n",
    "\n",
    "\n",
    "def _logcosh(x, fun_args=None, alpha = 1):\n",
    "    gx = tanh(alpha * x, x); g_x = gx ** 2; g_x -= 1.; g_x *= -alpha\n",
    "    return gx, g_x.mean(axis=-1)\n",
    "\n",
    "def do_decorrelation(W):\n",
    "    s, u = linalg.eigh(dot(W, W.T))\n",
    "    return dot(dot(u * (1. / sqrt(s)), u.T), W)\n",
    "\n",
    "def do_fastica(Z):\n",
    "    n, m = Z.shape; p = float(m); g = _logcosh\n",
    "    Z *= sqrt(Z.shape[1])\n",
    "    W = ones((n,n), float32)\n",
    "    for i in range(n): \n",
    "        for j in range(n):\n",
    "            W[i,j] = random.random()\n",
    "    maxIter = 200\n",
    "    for ii in range(maxIter):\n",
    "        gwtx, g_wtx = g(dot(W, Z))\n",
    "        W1 = do_decorrelation(dot(gwtx, Z.T) / p - g_wtx[:, newaxis] * W)\n",
    "        lim = max( abs(abs(diag(dot(W1, W.T))) - 1) )\n",
    "        W = W1\n",
    "        if lim < 0.0001:\n",
    "            break\n",
    "    return W\n",
    "\n",
    "\n",
    "X,fs=load_data()\n",
    "Z=whiten(X)\n",
    "W = do_fastica(Z)\n",
    "S = dot(W,Z)\n",
    "wavfile.write('kadai02C_01.wav',fs,S[0])\n",
    "wavfile.write('kadai02C_02.wav',fs,S[1])\n",
    "\n"
   ]
  },
  {
   "cell_type": "code",
   "execution_count": null,
   "metadata": {},
   "outputs": [],
   "source": []
  }
 ],
 "metadata": {
  "kernelspec": {
   "display_name": "Python 3",
   "language": "python",
   "name": "python3"
  },
  "language_info": {
   "codemirror_mode": {
    "name": "ipython",
    "version": 3
   },
   "file_extension": ".py",
   "mimetype": "text/x-python",
   "name": "python",
   "nbconvert_exporter": "python",
   "pygments_lexer": "ipython3",
   "version": "3.6.8"
  }
 },
 "nbformat": 4,
 "nbformat_minor": 2
}
